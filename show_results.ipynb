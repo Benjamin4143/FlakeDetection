{
 "cells": [
  {
   "cell_type": "markdown",
   "metadata": {},
   "source": [
    "# import libs"
   ]
  },
  {
   "cell_type": "code",
   "execution_count": null,
   "metadata": {},
   "outputs": [],
   "source": [
    "import os\n",
    "import importlib\n",
    "import cv2\n",
    "\n",
    "ROOT_DIR = os.path.abspath(\"./\")\n",
    "\n",
    "import utils\n",
    "import visualize\n",
    "\n",
    "importlib.reload(utils)\n",
    "importlib.reload(visualize)"
   ]
  },
  {
   "cell_type": "markdown",
   "metadata": {},
   "source": [
    "# show inference results"
   ]
  },
  {
   "cell_type": "code",
   "execution_count": null,
   "metadata": {},
   "outputs": [],
   "source": [
    "inference_result_dir = \"test_inference\"\n",
    "image_name = 'example_image'\n",
    "\n",
    "#------------------------------------------\n",
    "\n",
    "params = utils.load_params(os.path.join(ROOT_DIR, \"inferences\", inference_result_dir, \"params.txt\"))\n",
    "IMAGE_DIR = os.path.join(ROOT_DIR, params['image_dir'])\n",
    "json_path = os.path.join(ROOT_DIR, \"inferences\", inference_result_dir, f\"{image_name}.json\")\n",
    "for file_name in os.listdir(IMAGE_DIR):\n",
    "    if os.path.splitext(file_name)[0] == image_name:\n",
    "        image_path = os.path.join(IMAGE_DIR, file_name)\n",
    "print(image_path)\n",
    "RLE_results = utils.json_to_RLE_results(json_path)\n",
    "r = utils.parse_RLE_results(RLE_results)\n",
    "# detection is done on a resized \n",
    "image = cv2.imread(image_path)\n",
    "image_bgr = cv2.cvtColor(image, cv2.COLOR_RGB2BGR)\n",
    "\n",
    "visualize.display_instances(image_bgr, r['rois'], r['masks'], r['classes'], \n",
    "                            r['scores'], text_color='w', figsize=(8,8), min_score=0)"
   ]
  },
  {
   "cell_type": "markdown",
   "metadata": {},
   "source": [
    "# Show ground truth"
   ]
  },
  {
   "cell_type": "code",
   "execution_count": null,
   "metadata": {},
   "outputs": [],
   "source": [
    "data_dir = 'testset'\n",
    "image_name = 'example_image'\n",
    "\n",
    "#------------------------------------------\n",
    "ANNO_PATH = os.path.join(ROOT_DIR, data_dir, 'annotations.json')\n",
    "image_path = os.path.join(ROOT_DIR, data_dir, 'images', image_name)\n",
    "r = utils.get_ground_truth(ANNO_PATH, image_name)\n",
    "\n",
    "image, image_meta = utils.load_image(image_path)     # Run detection\n",
    "\n",
    "r[\"masks\"] = utils.resize_mask(r[\"masks\"], scale=image_meta[\"scale\"], \n",
    "                                    padding=image_meta[\"padding\"], crop=image_meta[\"crop\"])\n",
    "r[\"rois\"] = utils.extract_bboxes(r[\"masks\"])\n",
    "xlim = [0,0] \n",
    "ylim = [800,224]\n",
    "\n",
    "visualize.display_instances(image, r['rois'], r['masks'], r['classes'], \n",
    "                             xlim=xlim, ylim=ylim, figsize=(8,8), min_score=0, textsize=20)"
   ]
  }
 ],
 "metadata": {
  "kernelspec": {
   "display_name": "venv",
   "language": "python",
   "name": "python3"
  },
  "language_info": {
   "codemirror_mode": {
    "name": "ipython",
    "version": 3
   },
   "file_extension": ".py",
   "mimetype": "text/x-python",
   "name": "python",
   "nbconvert_exporter": "python",
   "pygments_lexer": "ipython3",
   "version": "3.9.18"
  }
 },
 "nbformat": 4,
 "nbformat_minor": 2
}
